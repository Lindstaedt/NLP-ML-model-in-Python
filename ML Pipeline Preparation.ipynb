{
 "cells": [
  {
   "cell_type": "markdown",
   "metadata": {},
   "source": [
    "# ML Pipeline Preparation\n",
    "Follow the instructions below to help you create your ML pipeline.\n",
    "### 1. Import libraries and load data from database.\n",
    "- Import Python libraries\n",
    "- Load dataset from database with [`read_sql_table`](https://pandas.pydata.org/pandas-docs/stable/generated/pandas.read_sql_table.html)\n",
    "- Define feature and target variables X and Y"
   ]
  },
  {
   "cell_type": "code",
   "execution_count": 44,
   "metadata": {},
   "outputs": [
    {
     "name": "stderr",
     "output_type": "stream",
     "text": [
      "[nltk_data] Downloading package punkt to\n",
      "[nltk_data]     C:\\Users\\Lindstaedt\\AppData\\Roaming\\nltk_data...\n",
      "[nltk_data]   Package punkt is already up-to-date!\n",
      "[nltk_data] Downloading package stopwords to\n",
      "[nltk_data]     C:\\Users\\Lindstaedt\\AppData\\Roaming\\nltk_data...\n",
      "[nltk_data]   Package stopwords is already up-to-date!\n",
      "[nltk_data] Downloading package wordnet to\n",
      "[nltk_data]     C:\\Users\\Lindstaedt\\AppData\\Roaming\\nltk_data...\n",
      "[nltk_data]   Package wordnet is already up-to-date!\n"
     ]
    }
   ],
   "source": [
    "# import libraries\n",
    "import pandas as pd\n",
    "import numpy as np\n",
    "import nltk\n",
    "import re\n",
    "import pickle\n",
    "\n",
    "from sqlalchemy import create_engine\n",
    "\n",
    "from nltk.stem.wordnet import WordNetLemmatizer\n",
    "from nltk.tokenize import word_tokenize\n",
    "from nltk.corpus import stopwords\n",
    "\n",
    "nltk.download('punkt')\n",
    "nltk.download('stopwords')\n",
    "nltk.download('wordnet')\n",
    "\n",
    "from sklearn.svm import LinearSVC\n",
    "from sklearn.multioutput import MultiOutputClassifier\n",
    "from sklearn.multiclass import OneVsRestClassifier\n",
    "from sklearn.feature_extraction.text import TfidfVectorizer\n",
    "from sklearn.feature_extraction.text import CountVectorizer\n",
    "from sklearn.feature_extraction.text import TfidfTransformer\n",
    "from sklearn.pipeline import Pipeline\n",
    "from sklearn.model_selection import train_test_split\n",
    "from sklearn.metrics import classification_report\n",
    "from sklearn.metrics import confusion_matrix\n",
    "from sklearn.metrics import accuracy_score\n",
    "from sklearn.model_selection import GridSearchCV\n"
   ]
  },
  {
   "cell_type": "code",
   "execution_count": 2,
   "metadata": {},
   "outputs": [],
   "source": [
    "# load data from database\n",
    "engine = create_engine('sqlite:///data/DisasterResponse.db')\n",
    "df = pd.read_sql_table('Messages', engine)\n",
    "X = df.message\n",
    "Y = df.drop(['message', 'original', 'genre'], axis=1)"
   ]
  },
  {
   "cell_type": "code",
   "execution_count": 3,
   "metadata": {},
   "outputs": [
    {
     "data": {
      "text/plain": [
       "0    Weather update - a cold front from Cuba that c...\n",
       "1              Is the Hurricane over or is it not over\n",
       "2                      Looking for someone but no name\n",
       "3    UN reports Leogane 80-90 destroyed. Only Hospi...\n",
       "4    says: west side of Haiti, rest of the country ...\n",
       "Name: message, dtype: object"
      ]
     },
     "execution_count": 3,
     "metadata": {},
     "output_type": "execute_result"
    }
   ],
   "source": [
    "X.head()"
   ]
  },
  {
   "cell_type": "code",
   "execution_count": 4,
   "metadata": {},
   "outputs": [
    {
     "data": {
      "text/html": [
       "<div>\n",
       "<style scoped>\n",
       "    .dataframe tbody tr th:only-of-type {\n",
       "        vertical-align: middle;\n",
       "    }\n",
       "\n",
       "    .dataframe tbody tr th {\n",
       "        vertical-align: top;\n",
       "    }\n",
       "\n",
       "    .dataframe thead th {\n",
       "        text-align: right;\n",
       "    }\n",
       "</style>\n",
       "<table border=\"1\" class=\"dataframe\">\n",
       "  <thead>\n",
       "    <tr style=\"text-align: right;\">\n",
       "      <th></th>\n",
       "      <th>related</th>\n",
       "      <th>request</th>\n",
       "      <th>offer</th>\n",
       "      <th>aid_related</th>\n",
       "      <th>medical_help</th>\n",
       "      <th>medical_products</th>\n",
       "      <th>search_and_rescue</th>\n",
       "      <th>security</th>\n",
       "      <th>military</th>\n",
       "      <th>child_alone</th>\n",
       "      <th>...</th>\n",
       "      <th>aid_centers</th>\n",
       "      <th>other_infrastructure</th>\n",
       "      <th>weather_related</th>\n",
       "      <th>floods</th>\n",
       "      <th>storm</th>\n",
       "      <th>fire</th>\n",
       "      <th>earthquake</th>\n",
       "      <th>cold</th>\n",
       "      <th>other_weather</th>\n",
       "      <th>direct_report</th>\n",
       "    </tr>\n",
       "  </thead>\n",
       "  <tbody>\n",
       "    <tr>\n",
       "      <th>0</th>\n",
       "      <td>1</td>\n",
       "      <td>0</td>\n",
       "      <td>0</td>\n",
       "      <td>0</td>\n",
       "      <td>0</td>\n",
       "      <td>0</td>\n",
       "      <td>0</td>\n",
       "      <td>0</td>\n",
       "      <td>0</td>\n",
       "      <td>0</td>\n",
       "      <td>...</td>\n",
       "      <td>0</td>\n",
       "      <td>0</td>\n",
       "      <td>0</td>\n",
       "      <td>0</td>\n",
       "      <td>0</td>\n",
       "      <td>0</td>\n",
       "      <td>0</td>\n",
       "      <td>0</td>\n",
       "      <td>0</td>\n",
       "      <td>0</td>\n",
       "    </tr>\n",
       "    <tr>\n",
       "      <th>1</th>\n",
       "      <td>1</td>\n",
       "      <td>0</td>\n",
       "      <td>0</td>\n",
       "      <td>1</td>\n",
       "      <td>0</td>\n",
       "      <td>0</td>\n",
       "      <td>0</td>\n",
       "      <td>0</td>\n",
       "      <td>0</td>\n",
       "      <td>0</td>\n",
       "      <td>...</td>\n",
       "      <td>0</td>\n",
       "      <td>0</td>\n",
       "      <td>1</td>\n",
       "      <td>0</td>\n",
       "      <td>1</td>\n",
       "      <td>0</td>\n",
       "      <td>0</td>\n",
       "      <td>0</td>\n",
       "      <td>0</td>\n",
       "      <td>0</td>\n",
       "    </tr>\n",
       "    <tr>\n",
       "      <th>2</th>\n",
       "      <td>1</td>\n",
       "      <td>0</td>\n",
       "      <td>0</td>\n",
       "      <td>0</td>\n",
       "      <td>0</td>\n",
       "      <td>0</td>\n",
       "      <td>0</td>\n",
       "      <td>0</td>\n",
       "      <td>0</td>\n",
       "      <td>0</td>\n",
       "      <td>...</td>\n",
       "      <td>0</td>\n",
       "      <td>0</td>\n",
       "      <td>0</td>\n",
       "      <td>0</td>\n",
       "      <td>0</td>\n",
       "      <td>0</td>\n",
       "      <td>0</td>\n",
       "      <td>0</td>\n",
       "      <td>0</td>\n",
       "      <td>0</td>\n",
       "    </tr>\n",
       "    <tr>\n",
       "      <th>3</th>\n",
       "      <td>1</td>\n",
       "      <td>1</td>\n",
       "      <td>0</td>\n",
       "      <td>1</td>\n",
       "      <td>0</td>\n",
       "      <td>1</td>\n",
       "      <td>0</td>\n",
       "      <td>0</td>\n",
       "      <td>0</td>\n",
       "      <td>0</td>\n",
       "      <td>...</td>\n",
       "      <td>0</td>\n",
       "      <td>0</td>\n",
       "      <td>0</td>\n",
       "      <td>0</td>\n",
       "      <td>0</td>\n",
       "      <td>0</td>\n",
       "      <td>0</td>\n",
       "      <td>0</td>\n",
       "      <td>0</td>\n",
       "      <td>0</td>\n",
       "    </tr>\n",
       "    <tr>\n",
       "      <th>4</th>\n",
       "      <td>1</td>\n",
       "      <td>0</td>\n",
       "      <td>0</td>\n",
       "      <td>0</td>\n",
       "      <td>0</td>\n",
       "      <td>0</td>\n",
       "      <td>0</td>\n",
       "      <td>0</td>\n",
       "      <td>0</td>\n",
       "      <td>0</td>\n",
       "      <td>...</td>\n",
       "      <td>0</td>\n",
       "      <td>0</td>\n",
       "      <td>0</td>\n",
       "      <td>0</td>\n",
       "      <td>0</td>\n",
       "      <td>0</td>\n",
       "      <td>0</td>\n",
       "      <td>0</td>\n",
       "      <td>0</td>\n",
       "      <td>0</td>\n",
       "    </tr>\n",
       "  </tbody>\n",
       "</table>\n",
       "<p>5 rows × 36 columns</p>\n",
       "</div>"
      ],
      "text/plain": [
       "   related  request  offer  aid_related  medical_help  medical_products  \\\n",
       "0        1        0      0            0             0                 0   \n",
       "1        1        0      0            1             0                 0   \n",
       "2        1        0      0            0             0                 0   \n",
       "3        1        1      0            1             0                 1   \n",
       "4        1        0      0            0             0                 0   \n",
       "\n",
       "   search_and_rescue  security  military  child_alone      ...        \\\n",
       "0                  0         0         0            0      ...         \n",
       "1                  0         0         0            0      ...         \n",
       "2                  0         0         0            0      ...         \n",
       "3                  0         0         0            0      ...         \n",
       "4                  0         0         0            0      ...         \n",
       "\n",
       "   aid_centers  other_infrastructure  weather_related  floods  storm  fire  \\\n",
       "0            0                     0                0       0      0     0   \n",
       "1            0                     0                1       0      1     0   \n",
       "2            0                     0                0       0      0     0   \n",
       "3            0                     0                0       0      0     0   \n",
       "4            0                     0                0       0      0     0   \n",
       "\n",
       "   earthquake  cold  other_weather  direct_report  \n",
       "0           0     0              0              0  \n",
       "1           0     0              0              0  \n",
       "2           0     0              0              0  \n",
       "3           0     0              0              0  \n",
       "4           0     0              0              0  \n",
       "\n",
       "[5 rows x 36 columns]"
      ]
     },
     "execution_count": 4,
     "metadata": {},
     "output_type": "execute_result"
    }
   ],
   "source": [
    "Y.head()"
   ]
  },
  {
   "cell_type": "code",
   "execution_count": 58,
   "metadata": {},
   "outputs": [
    {
     "name": "stdout",
     "output_type": "stream",
     "text": [
      "['related', 'request', 'offer', 'aid_related', 'medical_help', 'medical_products', 'search_and_rescue', 'security', 'military', 'child_alone', 'water', 'food', 'shelter', 'clothing', 'money', 'missing_people', 'refugees', 'death', 'other_aid', 'infrastructure_related', 'transport', 'buildings', 'electricity', 'tools', 'hospitals', 'shops', 'aid_centers', 'other_infrastructure', 'weather_related', 'floods', 'storm', 'fire', 'earthquake', 'cold', 'other_weather', 'direct_report']\n"
     ]
    }
   ],
   "source": [
    "category_names = list(Y.columns)\n",
    "print(category_names)"
   ]
  },
  {
   "cell_type": "markdown",
   "metadata": {},
   "source": [
    "### 2. Write a tokenization function to process your text data"
   ]
  },
  {
   "cell_type": "code",
   "execution_count": 5,
   "metadata": {},
   "outputs": [],
   "source": [
    "def tokenize(text):\n",
    "    # normalize case and remove punctuation\n",
    "    text = re.sub(r\"[^a-zA-Z0-9]\", \" \", text.lower())\n",
    "    \n",
    "    # tokenize text\n",
    "    tokens = word_tokenize(text)\n",
    "    \n",
    "    # build multi-language list of stop words\n",
    "    stop_words = [*stopwords.words(\"english\"),\n",
    "                  *stopwords.words(\"french\"),\n",
    "                  *stopwords.words(\"spanish\")]\n",
    "    \n",
    "    # lemmatize andremove stop words\n",
    "    lemmatizer = WordNetLemmatizer()\n",
    "    tokens = [lemmatizer.lemmatize(word).strip() for word in tokens if word not in stop_words]\n",
    "    \n",
    "    return tokens"
   ]
  },
  {
   "cell_type": "code",
   "execution_count": 6,
   "metadata": {},
   "outputs": [
    {
     "data": {
      "text/plain": [
       "['weather', 'update', 'cold', 'front', 'cuba', 'could', 'pas', 'haiti']"
      ]
     },
     "execution_count": 6,
     "metadata": {},
     "output_type": "execute_result"
    }
   ],
   "source": [
    "tokenize(X[0])"
   ]
  },
  {
   "cell_type": "code",
   "execution_count": 7,
   "metadata": {},
   "outputs": [],
   "source": [
    "# initialize tf-idf vectorizer object\n",
    "vectorizer = TfidfVectorizer(tokenizer=tokenize)"
   ]
  },
  {
   "cell_type": "code",
   "execution_count": 8,
   "metadata": {},
   "outputs": [],
   "source": [
    "# compute bag of word counts and tf-idf values\n",
    "XTFIDF = vectorizer.fit_transform(X.head())"
   ]
  },
  {
   "cell_type": "code",
   "execution_count": 9,
   "metadata": {},
   "outputs": [
    {
     "data": {
      "text/plain": [
       "{'weather': 29,\n",
       " 'update': 28,\n",
       " 'cold': 2,\n",
       " 'front': 9,\n",
       " 'cuba': 6,\n",
       " 'could': 3,\n",
       " 'pas': 18,\n",
       " 'haiti': 11,\n",
       " 'hurricane': 13,\n",
       " 'looking': 15,\n",
       " 'someone': 23,\n",
       " 'name': 16,\n",
       " 'report': 19,\n",
       " 'leogane': 14,\n",
       " '80': 0,\n",
       " '90': 1,\n",
       " 'destroyed': 8,\n",
       " 'hospital': 12,\n",
       " 'st': 24,\n",
       " 'croix': 5,\n",
       " 'functioning': 10,\n",
       " 'need': 17,\n",
       " 'supply': 25,\n",
       " 'desperately': 7,\n",
       " 'say': 21,\n",
       " 'west': 30,\n",
       " 'side': 22,\n",
       " 'rest': 20,\n",
       " 'country': 4,\n",
       " 'today': 26,\n",
       " 'tonight': 27}"
      ]
     },
     "execution_count": 9,
     "metadata": {},
     "output_type": "execute_result"
    }
   ],
   "source": [
    "vectorizer.vocabulary_"
   ]
  },
  {
   "cell_type": "code",
   "execution_count": 10,
   "metadata": {},
   "outputs": [
    {
     "data": {
      "text/plain": [
       "array([[0.        , 0.        , 0.36152912, 0.36152912, 0.        ,\n",
       "        0.        , 0.36152912, 0.        , 0.        , 0.36152912,\n",
       "        0.        , 0.29167942, 0.        , 0.        , 0.        ,\n",
       "        0.        , 0.        , 0.        , 0.36152912, 0.        ,\n",
       "        0.        , 0.        , 0.        , 0.        , 0.        ,\n",
       "        0.        , 0.        , 0.        , 0.36152912, 0.36152912,\n",
       "        0.        ],\n",
       "       [0.        , 0.        , 0.        , 0.        , 0.        ,\n",
       "        0.        , 0.        , 0.        , 0.        , 0.        ,\n",
       "        0.        , 0.        , 0.        , 1.        , 0.        ,\n",
       "        0.        , 0.        , 0.        , 0.        , 0.        ,\n",
       "        0.        , 0.        , 0.        , 0.        , 0.        ,\n",
       "        0.        , 0.        , 0.        , 0.        , 0.        ,\n",
       "        0.        ],\n",
       "       [0.        , 0.        , 0.        , 0.        , 0.        ,\n",
       "        0.        , 0.        , 0.        , 0.        , 0.        ,\n",
       "        0.        , 0.        , 0.        , 0.        , 0.        ,\n",
       "        0.57735027, 0.57735027, 0.        , 0.        , 0.        ,\n",
       "        0.        , 0.        , 0.        , 0.57735027, 0.        ,\n",
       "        0.        , 0.        , 0.        , 0.        , 0.        ,\n",
       "        0.        ],\n",
       "       [0.28867513, 0.28867513, 0.        , 0.        , 0.        ,\n",
       "        0.28867513, 0.        , 0.28867513, 0.28867513, 0.        ,\n",
       "        0.28867513, 0.        , 0.28867513, 0.        , 0.28867513,\n",
       "        0.        , 0.        , 0.28867513, 0.        , 0.28867513,\n",
       "        0.        , 0.        , 0.        , 0.        , 0.28867513,\n",
       "        0.28867513, 0.        , 0.        , 0.        , 0.        ,\n",
       "        0.        ],\n",
       "       [0.        , 0.        , 0.        , 0.        , 0.36152912,\n",
       "        0.        , 0.        , 0.        , 0.        , 0.        ,\n",
       "        0.        , 0.29167942, 0.        , 0.        , 0.        ,\n",
       "        0.        , 0.        , 0.        , 0.        , 0.        ,\n",
       "        0.36152912, 0.36152912, 0.36152912, 0.        , 0.        ,\n",
       "        0.        , 0.36152912, 0.36152912, 0.        , 0.        ,\n",
       "        0.36152912]])"
      ]
     },
     "execution_count": 10,
     "metadata": {},
     "output_type": "execute_result"
    }
   ],
   "source": [
    "# convert sparse matrix to numpy array to view\n",
    "XTFIDF.toarray()"
   ]
  },
  {
   "cell_type": "markdown",
   "metadata": {},
   "source": [
    "### 3. Build a machine learning pipeline\n",
    "This machine pipeline should take in the `message` column as input and output classification results on the other 36 categories in the dataset. You may find the [MultiOutputClassifier](http://scikit-learn.org/stable/modules/generated/sklearn.multioutput.MultiOutputClassifier.html) helpful for predicting multiple target variables."
   ]
  },
  {
   "cell_type": "code",
   "execution_count": 11,
   "metadata": {},
   "outputs": [],
   "source": [
    "pipeline = Pipeline([\n",
    "    ('vectorizer', CountVectorizer(tokenizer=tokenize)),\n",
    "    ('tfidf', TfidfTransformer()),\n",
    "    ('multiOutClf', MultiOutputClassifier(OneVsRestClassifier(LinearSVC()))),\n",
    "])"
   ]
  },
  {
   "cell_type": "code",
   "execution_count": 31,
   "metadata": {},
   "outputs": [
    {
     "data": {
      "text/plain": [
       "{'memory': None,\n",
       " 'steps': [('vectorizer',\n",
       "   CountVectorizer(analyzer='word', binary=False, decode_error='strict',\n",
       "           dtype=<class 'numpy.int64'>, encoding='utf-8', input='content',\n",
       "           lowercase=True, max_df=1.0, max_features=None, min_df=1,\n",
       "           ngram_range=(1, 1), preprocessor=None, stop_words=None,\n",
       "           strip_accents=None, token_pattern='(?u)\\\\b\\\\w\\\\w+\\\\b',\n",
       "           tokenizer=<function tokenize at 0x0000028CC60D28C8>,\n",
       "           vocabulary=None)),\n",
       "  ('tfidf',\n",
       "   TfidfTransformer(norm='l2', smooth_idf=True, sublinear_tf=False, use_idf=True)),\n",
       "  ('multiOutClf',\n",
       "   MultiOutputClassifier(estimator=OneVsRestClassifier(estimator=LinearSVC(C=1.0, class_weight=None, dual=True, fit_intercept=True,\n",
       "        intercept_scaling=1, loss='squared_hinge', max_iter=1000,\n",
       "        multi_class='ovr', penalty='l2', random_state=None, tol=0.0001,\n",
       "        verbose=0),\n",
       "             n_jobs=None),\n",
       "              n_jobs=None))],\n",
       " 'vectorizer': CountVectorizer(analyzer='word', binary=False, decode_error='strict',\n",
       "         dtype=<class 'numpy.int64'>, encoding='utf-8', input='content',\n",
       "         lowercase=True, max_df=1.0, max_features=None, min_df=1,\n",
       "         ngram_range=(1, 1), preprocessor=None, stop_words=None,\n",
       "         strip_accents=None, token_pattern='(?u)\\\\b\\\\w\\\\w+\\\\b',\n",
       "         tokenizer=<function tokenize at 0x0000028CC60D28C8>,\n",
       "         vocabulary=None),\n",
       " 'tfidf': TfidfTransformer(norm='l2', smooth_idf=True, sublinear_tf=False, use_idf=True),\n",
       " 'multiOutClf': MultiOutputClassifier(estimator=OneVsRestClassifier(estimator=LinearSVC(C=1.0, class_weight=None, dual=True, fit_intercept=True,\n",
       "      intercept_scaling=1, loss='squared_hinge', max_iter=1000,\n",
       "      multi_class='ovr', penalty='l2', random_state=None, tol=0.0001,\n",
       "      verbose=0),\n",
       "           n_jobs=None),\n",
       "            n_jobs=None),\n",
       " 'vectorizer__analyzer': 'word',\n",
       " 'vectorizer__binary': False,\n",
       " 'vectorizer__decode_error': 'strict',\n",
       " 'vectorizer__dtype': numpy.int64,\n",
       " 'vectorizer__encoding': 'utf-8',\n",
       " 'vectorizer__input': 'content',\n",
       " 'vectorizer__lowercase': True,\n",
       " 'vectorizer__max_df': 1.0,\n",
       " 'vectorizer__max_features': None,\n",
       " 'vectorizer__min_df': 1,\n",
       " 'vectorizer__ngram_range': (1, 1),\n",
       " 'vectorizer__preprocessor': None,\n",
       " 'vectorizer__stop_words': None,\n",
       " 'vectorizer__strip_accents': None,\n",
       " 'vectorizer__token_pattern': '(?u)\\\\b\\\\w\\\\w+\\\\b',\n",
       " 'vectorizer__tokenizer': <function __main__.tokenize(text)>,\n",
       " 'vectorizer__vocabulary': None,\n",
       " 'tfidf__norm': 'l2',\n",
       " 'tfidf__smooth_idf': True,\n",
       " 'tfidf__sublinear_tf': False,\n",
       " 'tfidf__use_idf': True,\n",
       " 'multiOutClf__estimator__estimator__C': 1.0,\n",
       " 'multiOutClf__estimator__estimator__class_weight': None,\n",
       " 'multiOutClf__estimator__estimator__dual': True,\n",
       " 'multiOutClf__estimator__estimator__fit_intercept': True,\n",
       " 'multiOutClf__estimator__estimator__intercept_scaling': 1,\n",
       " 'multiOutClf__estimator__estimator__loss': 'squared_hinge',\n",
       " 'multiOutClf__estimator__estimator__max_iter': 1000,\n",
       " 'multiOutClf__estimator__estimator__multi_class': 'ovr',\n",
       " 'multiOutClf__estimator__estimator__penalty': 'l2',\n",
       " 'multiOutClf__estimator__estimator__random_state': None,\n",
       " 'multiOutClf__estimator__estimator__tol': 0.0001,\n",
       " 'multiOutClf__estimator__estimator__verbose': 0,\n",
       " 'multiOutClf__estimator__estimator': LinearSVC(C=1.0, class_weight=None, dual=True, fit_intercept=True,\n",
       "      intercept_scaling=1, loss='squared_hinge', max_iter=1000,\n",
       "      multi_class='ovr', penalty='l2', random_state=None, tol=0.0001,\n",
       "      verbose=0),\n",
       " 'multiOutClf__estimator__n_jobs': None,\n",
       " 'multiOutClf__estimator': OneVsRestClassifier(estimator=LinearSVC(C=1.0, class_weight=None, dual=True, fit_intercept=True,\n",
       "      intercept_scaling=1, loss='squared_hinge', max_iter=1000,\n",
       "      multi_class='ovr', penalty='l2', random_state=None, tol=0.0001,\n",
       "      verbose=0),\n",
       "           n_jobs=None),\n",
       " 'multiOutClf__n_jobs': None}"
      ]
     },
     "execution_count": 31,
     "metadata": {},
     "output_type": "execute_result"
    }
   ],
   "source": [
    "pipeline.get_params()"
   ]
  },
  {
   "cell_type": "markdown",
   "metadata": {},
   "source": [
    "### 4. Train pipeline\n",
    "- Split data into train and test sets\n",
    "- Train pipeline"
   ]
  },
  {
   "cell_type": "code",
   "execution_count": 12,
   "metadata": {},
   "outputs": [],
   "source": [
    "X_train, X_test, y_train, y_test = train_test_split(X, Y, test_size=0.2)"
   ]
  },
  {
   "cell_type": "code",
   "execution_count": 13,
   "metadata": {},
   "outputs": [
    {
     "data": {
      "text/plain": [
       "1    16097\n",
       "0     4874\n",
       "Name: related, dtype: int64"
      ]
     },
     "execution_count": 13,
     "metadata": {},
     "output_type": "execute_result"
    }
   ],
   "source": [
    "y_train.related.value_counts()"
   ]
  },
  {
   "cell_type": "code",
   "execution_count": 14,
   "metadata": {},
   "outputs": [
    {
     "name": "stderr",
     "output_type": "stream",
     "text": [
      "C:\\Users\\Lindstaedt\\Anaconda3\\lib\\site-packages\\sklearn\\multiclass.py:76: UserWarning: Label not 0 is present in all training examples.\n",
      "  str(classes[c]))\n"
     ]
    },
    {
     "data": {
      "text/plain": [
       "Pipeline(memory=None,\n",
       "     steps=[('vectorizer', CountVectorizer(analyzer='word', binary=False, decode_error='strict',\n",
       "        dtype=<class 'numpy.int64'>, encoding='utf-8', input='content',\n",
       "        lowercase=True, max_df=1.0, max_features=None, min_df=1,\n",
       "        ngram_range=(1, 1), preprocessor=None, stop_words=None,\n",
       "       ...', random_state=None, tol=0.0001,\n",
       "     verbose=0),\n",
       "          n_jobs=None),\n",
       "           n_jobs=None))])"
      ]
     },
     "execution_count": 14,
     "metadata": {},
     "output_type": "execute_result"
    }
   ],
   "source": [
    "pipeline.fit(X_train, y_train)"
   ]
  },
  {
   "cell_type": "markdown",
   "metadata": {},
   "source": [
    "### 5. Test your model\n",
    "Report the f1 score, precision and recall for each output category of the dataset. You can do this by iterating through the columns and calling sklearn's `classification_report` on each."
   ]
  },
  {
   "cell_type": "code",
   "execution_count": 15,
   "metadata": {},
   "outputs": [],
   "source": [
    "y_pred = pipeline.predict(X_test)"
   ]
  },
  {
   "cell_type": "code",
   "execution_count": 16,
   "metadata": {},
   "outputs": [
    {
     "data": {
      "text/plain": [
       "(5243, 36)"
      ]
     },
     "execution_count": 16,
     "metadata": {},
     "output_type": "execute_result"
    }
   ],
   "source": [
    "y_test.shape"
   ]
  },
  {
   "cell_type": "code",
   "execution_count": 17,
   "metadata": {},
   "outputs": [
    {
     "data": {
      "text/plain": [
       "(5243, 36)"
      ]
     },
     "execution_count": 17,
     "metadata": {},
     "output_type": "execute_result"
    }
   ],
   "source": [
    "y_pred.shape"
   ]
  },
  {
   "cell_type": "code",
   "execution_count": 28,
   "metadata": {},
   "outputs": [
    {
     "name": "stdout",
     "output_type": "stream",
     "text": [
      "related\n",
      "              precision    recall  f1-score   support\n",
      "\n",
      "           0       0.65      0.54      0.59      1247\n",
      "           1       0.86      0.91      0.89      3996\n",
      "\n",
      "   micro avg       0.82      0.82      0.82      5243\n",
      "   macro avg       0.76      0.73      0.74      5243\n",
      "weighted avg       0.81      0.82      0.82      5243\n",
      "\n",
      "-----------------------------------------------------\n",
      "request\n",
      "              precision    recall  f1-score   support\n",
      "\n",
      "           0       0.92      0.96      0.94      4384\n",
      "           1       0.75      0.60      0.67       859\n",
      "\n",
      "   micro avg       0.90      0.90      0.90      5243\n",
      "   macro avg       0.84      0.78      0.81      5243\n",
      "weighted avg       0.90      0.90      0.90      5243\n",
      "\n",
      "-----------------------------------------------------\n",
      "offer\n",
      "              precision    recall  f1-score   support\n",
      "\n",
      "           0       1.00      1.00      1.00      5218\n",
      "           1       0.00      0.00      0.00        25\n",
      "\n",
      "   micro avg       1.00      1.00      1.00      5243\n",
      "   macro avg       0.50      0.50      0.50      5243\n",
      "weighted avg       0.99      1.00      0.99      5243\n",
      "\n",
      "-----------------------------------------------------\n",
      "aid_related\n",
      "              precision    recall  f1-score   support\n",
      "\n",
      "           0       0.79      0.82      0.80      3106\n",
      "           1       0.72      0.68      0.70      2137\n",
      "\n",
      "   micro avg       0.76      0.76      0.76      5243\n",
      "   macro avg       0.75      0.75      0.75      5243\n",
      "weighted avg       0.76      0.76      0.76      5243\n",
      "\n",
      "-----------------------------------------------------\n",
      "medical_help\n",
      "              precision    recall  f1-score   support\n",
      "\n",
      "           0       0.94      0.98      0.96      4835\n",
      "           1       0.55      0.27      0.36       408\n",
      "\n",
      "   micro avg       0.93      0.93      0.93      5243\n",
      "   macro avg       0.74      0.62      0.66      5243\n",
      "weighted avg       0.91      0.93      0.91      5243\n",
      "\n",
      "-----------------------------------------------------\n",
      "medical_products\n",
      "              precision    recall  f1-score   support\n",
      "\n",
      "           0       0.96      0.99      0.98      4974\n",
      "           1       0.65      0.30      0.41       269\n",
      "\n",
      "   micro avg       0.96      0.96      0.96      5243\n",
      "   macro avg       0.81      0.65      0.69      5243\n",
      "weighted avg       0.95      0.96      0.95      5243\n",
      "\n",
      "-----------------------------------------------------\n",
      "search_and_rescue\n",
      "              precision    recall  f1-score   support\n",
      "\n",
      "           0       0.98      1.00      0.99      5109\n",
      "           1       0.54      0.15      0.23       134\n",
      "\n",
      "   micro avg       0.98      0.98      0.98      5243\n",
      "   macro avg       0.76      0.57      0.61      5243\n",
      "weighted avg       0.97      0.98      0.97      5243\n",
      "\n",
      "-----------------------------------------------------\n",
      "security\n",
      "              precision    recall  f1-score   support\n",
      "\n",
      "           0       0.98      1.00      0.99      5144\n",
      "           1       0.14      0.01      0.02        99\n",
      "\n",
      "   micro avg       0.98      0.98      0.98      5243\n",
      "   macro avg       0.56      0.50      0.50      5243\n",
      "weighted avg       0.97      0.98      0.97      5243\n",
      "\n",
      "-----------------------------------------------------\n",
      "military\n",
      "              precision    recall  f1-score   support\n",
      "\n",
      "           0       0.98      0.99      0.99      5079\n",
      "           1       0.63      0.34      0.44       164\n",
      "\n",
      "   micro avg       0.97      0.97      0.97      5243\n",
      "   macro avg       0.81      0.66      0.71      5243\n",
      "weighted avg       0.97      0.97      0.97      5243\n",
      "\n",
      "-----------------------------------------------------\n",
      "child_alone\n",
      "              precision    recall  f1-score   support\n",
      "\n",
      "           0       1.00      1.00      1.00      5243\n",
      "\n",
      "   micro avg       1.00      1.00      1.00      5243\n",
      "   macro avg       1.00      1.00      1.00      5243\n",
      "weighted avg       1.00      1.00      1.00      5243\n",
      "\n",
      "-----------------------------------------------------\n",
      "water\n",
      "              precision    recall  f1-score   support\n",
      "\n",
      "           0       0.97      0.99      0.98      4903\n",
      "           1       0.80      0.59      0.68       340\n",
      "\n",
      "   micro avg       0.96      0.96      0.96      5243\n",
      "   macro avg       0.89      0.79      0.83      5243\n",
      "weighted avg       0.96      0.96      0.96      5243\n",
      "\n",
      "-----------------------------------------------------\n",
      "food\n",
      "              precision    recall  f1-score   support\n",
      "\n",
      "           0       0.96      0.98      0.97      4675\n",
      "           1       0.80      0.70      0.74       568\n",
      "\n",
      "   micro avg       0.95      0.95      0.95      5243\n",
      "   macro avg       0.88      0.84      0.86      5243\n",
      "weighted avg       0.95      0.95      0.95      5243\n",
      "\n",
      "-----------------------------------------------------\n",
      "shelter\n",
      "              precision    recall  f1-score   support\n",
      "\n",
      "           0       0.96      0.98      0.97      4815\n",
      "           1       0.75      0.56      0.64       428\n",
      "\n",
      "   micro avg       0.95      0.95      0.95      5243\n",
      "   macro avg       0.85      0.77      0.81      5243\n",
      "weighted avg       0.94      0.95      0.95      5243\n",
      "\n",
      "-----------------------------------------------------\n",
      "clothing\n",
      "              precision    recall  f1-score   support\n",
      "\n",
      "           0       0.99      1.00      0.99      5159\n",
      "           1       0.69      0.39      0.50        84\n",
      "\n",
      "   micro avg       0.99      0.99      0.99      5243\n",
      "   macro avg       0.84      0.69      0.75      5243\n",
      "weighted avg       0.99      0.99      0.99      5243\n",
      "\n",
      "-----------------------------------------------------\n",
      "money\n",
      "              precision    recall  f1-score   support\n",
      "\n",
      "           0       0.98      1.00      0.99      5116\n",
      "           1       0.60      0.23      0.33       127\n",
      "\n",
      "   micro avg       0.98      0.98      0.98      5243\n",
      "   macro avg       0.79      0.61      0.66      5243\n",
      "weighted avg       0.97      0.98      0.97      5243\n",
      "\n",
      "-----------------------------------------------------\n",
      "missing_people\n",
      "              precision    recall  f1-score   support\n",
      "\n",
      "           0       0.99      1.00      0.99      5182\n",
      "           1       0.62      0.16      0.26        61\n",
      "\n",
      "   micro avg       0.99      0.99      0.99      5243\n",
      "   macro avg       0.81      0.58      0.63      5243\n",
      "weighted avg       0.99      0.99      0.99      5243\n",
      "\n",
      "-----------------------------------------------------\n",
      "refugees\n",
      "              precision    recall  f1-score   support\n",
      "\n",
      "           0       0.97      1.00      0.98      5056\n",
      "           1       0.74      0.27      0.39       187\n",
      "\n",
      "   micro avg       0.97      0.97      0.97      5243\n",
      "   macro avg       0.85      0.63      0.69      5243\n",
      "weighted avg       0.97      0.97      0.96      5243\n",
      "\n",
      "-----------------------------------------------------\n",
      "death\n",
      "              precision    recall  f1-score   support\n",
      "\n",
      "           0       0.98      0.99      0.98      5015\n",
      "           1       0.69      0.48      0.56       228\n",
      "\n",
      "   micro avg       0.97      0.97      0.97      5243\n",
      "   macro avg       0.83      0.73      0.77      5243\n",
      "weighted avg       0.96      0.97      0.97      5243\n",
      "\n",
      "-----------------------------------------------------\n",
      "other_aid\n",
      "              precision    recall  f1-score   support\n",
      "\n",
      "           0       0.89      0.96      0.92      4573\n",
      "           1       0.41      0.17      0.24       670\n",
      "\n",
      "   micro avg       0.86      0.86      0.86      5243\n",
      "   macro avg       0.65      0.57      0.58      5243\n",
      "weighted avg       0.83      0.86      0.84      5243\n",
      "\n",
      "-----------------------------------------------------\n",
      "infrastructure_related\n",
      "              precision    recall  f1-score   support\n",
      "\n",
      "           0       0.94      0.99      0.97      4919\n",
      "           1       0.35      0.10      0.16       324\n",
      "\n",
      "   micro avg       0.93      0.93      0.93      5243\n",
      "   macro avg       0.65      0.54      0.56      5243\n",
      "weighted avg       0.91      0.93      0.92      5243\n",
      "\n",
      "-----------------------------------------------------\n",
      "transport\n",
      "              precision    recall  f1-score   support\n",
      "\n",
      "           0       0.97      0.99      0.98      5019\n",
      "           1       0.69      0.27      0.39       224\n",
      "\n",
      "   micro avg       0.96      0.96      0.96      5243\n",
      "   macro avg       0.83      0.63      0.69      5243\n",
      "weighted avg       0.96      0.96      0.96      5243\n",
      "\n",
      "-----------------------------------------------------\n",
      "buildings\n",
      "              precision    recall  f1-score   support\n",
      "\n",
      "           0       0.97      0.99      0.98      4990\n",
      "           1       0.70      0.35      0.47       253\n",
      "\n",
      "   micro avg       0.96      0.96      0.96      5243\n",
      "   macro avg       0.84      0.67      0.72      5243\n",
      "weighted avg       0.96      0.96      0.96      5243\n",
      "\n",
      "-----------------------------------------------------\n",
      "electricity\n",
      "              precision    recall  f1-score   support\n",
      "\n",
      "           0       0.98      1.00      0.99      5144\n",
      "           1       0.50      0.19      0.28        99\n",
      "\n",
      "   micro avg       0.98      0.98      0.98      5243\n",
      "   macro avg       0.74      0.59      0.63      5243\n",
      "weighted avg       0.98      0.98      0.98      5243\n",
      "\n",
      "-----------------------------------------------------\n",
      "tools\n",
      "              precision    recall  f1-score   support\n",
      "\n",
      "           0       0.99      1.00      1.00      5212\n",
      "           1       0.00      0.00      0.00        31\n",
      "\n",
      "   micro avg       0.99      0.99      0.99      5243\n",
      "   macro avg       0.50      0.50      0.50      5243\n",
      "weighted avg       0.99      0.99      0.99      5243\n",
      "\n",
      "-----------------------------------------------------\n",
      "hospitals\n",
      "              precision    recall  f1-score   support\n",
      "\n",
      "           0       0.99      1.00      1.00      5191\n",
      "           1       0.50      0.06      0.10        52\n",
      "\n",
      "   micro avg       0.99      0.99      0.99      5243\n",
      "   macro avg       0.75      0.53      0.55      5243\n",
      "weighted avg       0.99      0.99      0.99      5243\n",
      "\n",
      "-----------------------------------------------------\n",
      "shops\n",
      "              precision    recall  f1-score   support\n",
      "\n",
      "           0       1.00      1.00      1.00      5224\n",
      "           1       0.00      0.00      0.00        19\n",
      "\n",
      "   micro avg       1.00      1.00      1.00      5243\n",
      "   macro avg       0.50      0.50      0.50      5243\n",
      "weighted avg       0.99      1.00      0.99      5243\n",
      "\n",
      "-----------------------------------------------------\n",
      "aid_centers\n",
      "              precision    recall  f1-score   support\n",
      "\n",
      "           0       0.99      1.00      0.99      5174\n",
      "           1       0.50      0.03      0.05        69\n",
      "\n",
      "   micro avg       0.99      0.99      0.99      5243\n",
      "   macro avg       0.74      0.51      0.52      5243\n",
      "weighted avg       0.98      0.99      0.98      5243\n",
      "\n",
      "-----------------------------------------------------\n",
      "other_infrastructure\n",
      "              precision    recall  f1-score   support\n",
      "\n",
      "           0       0.96      0.99      0.98      5029\n",
      "           1       0.28      0.05      0.09       214\n",
      "\n",
      "   micro avg       0.96      0.96      0.96      5243\n",
      "   macro avg       0.62      0.52      0.53      5243\n",
      "weighted avg       0.93      0.96      0.94      5243\n",
      "\n",
      "-----------------------------------------------------\n",
      "weather_related\n",
      "              precision    recall  f1-score   support\n",
      "\n",
      "           0       0.89      0.93      0.91      3799\n",
      "           1       0.80      0.71      0.75      1444\n",
      "\n",
      "   micro avg       0.87      0.87      0.87      5243\n",
      "   macro avg       0.85      0.82      0.83      5243\n",
      "weighted avg       0.87      0.87      0.87      5243\n",
      "\n",
      "-----------------------------------------------------\n",
      "floods\n",
      "              precision    recall  f1-score   support\n",
      "\n",
      "           0       0.96      0.99      0.98      4827\n",
      "           1       0.83      0.52      0.64       416\n",
      "\n",
      "   micro avg       0.95      0.95      0.95      5243\n",
      "   macro avg       0.90      0.76      0.81      5243\n",
      "weighted avg       0.95      0.95      0.95      5243\n",
      "\n",
      "-----------------------------------------------------\n",
      "storm\n",
      "              precision    recall  f1-score   support\n",
      "\n",
      "           0       0.96      0.98      0.97      4763\n",
      "           1       0.73      0.58      0.65       480\n",
      "\n",
      "   micro avg       0.94      0.94      0.94      5243\n",
      "   macro avg       0.84      0.78      0.81      5243\n",
      "weighted avg       0.94      0.94      0.94      5243\n",
      "\n",
      "-----------------------------------------------------\n",
      "fire\n",
      "              precision    recall  f1-score   support\n",
      "\n",
      "           0       0.99      1.00      1.00      5194\n",
      "           1       0.81      0.27      0.40        49\n",
      "\n",
      "   micro avg       0.99      0.99      0.99      5243\n",
      "   macro avg       0.90      0.63      0.70      5243\n",
      "weighted avg       0.99      0.99      0.99      5243\n",
      "\n",
      "-----------------------------------------------------\n",
      "earthquake\n",
      "              precision    recall  f1-score   support\n",
      "\n",
      "           0       0.97      0.99      0.98      4744\n",
      "           1       0.88      0.76      0.81       499\n",
      "\n",
      "   micro avg       0.97      0.97      0.97      5243\n",
      "   macro avg       0.93      0.87      0.90      5243\n",
      "weighted avg       0.97      0.97      0.97      5243\n",
      "\n",
      "-----------------------------------------------------\n",
      "cold\n",
      "              precision    recall  f1-score   support\n",
      "\n",
      "           0       0.99      1.00      0.99      5143\n",
      "           1       0.69      0.29      0.41       100\n",
      "\n",
      "   micro avg       0.98      0.98      0.98      5243\n",
      "   macro avg       0.84      0.64      0.70      5243\n",
      "weighted avg       0.98      0.98      0.98      5243\n",
      "\n",
      "-----------------------------------------------------\n",
      "other_weather\n",
      "              precision    recall  f1-score   support\n",
      "\n",
      "           0       0.95      0.99      0.97      4980\n",
      "           1       0.40      0.11      0.17       263\n",
      "\n",
      "   micro avg       0.95      0.95      0.95      5243\n",
      "   macro avg       0.68      0.55      0.57      5243\n",
      "weighted avg       0.93      0.95      0.93      5243\n",
      "\n",
      "-----------------------------------------------------\n",
      "direct_report\n",
      "              precision    recall  f1-score   support\n",
      "\n",
      "           0       0.89      0.94      0.92      4267\n",
      "           1       0.67      0.52      0.58       976\n",
      "\n",
      "   micro avg       0.86      0.86      0.86      5243\n",
      "   macro avg       0.78      0.73      0.75      5243\n",
      "weighted avg       0.85      0.86      0.86      5243\n",
      "\n",
      "-----------------------------------------------------\n"
     ]
    }
   ],
   "source": [
    "for col in range(36):\n",
    "    print(y_test.columns[col])\n",
    "    print(classification_report(y_test.iloc[:,col], y_pred[:,col]))\n",
    "    print('-----------------------------------------------------')\n",
    "    "
   ]
  },
  {
   "cell_type": "markdown",
   "metadata": {},
   "source": [
    "### 6. Improve your model\n",
    "Use grid search to find better parameters. "
   ]
  },
  {
   "cell_type": "code",
   "execution_count": 47,
   "metadata": {
    "scrolled": true
   },
   "outputs": [
    {
     "name": "stdout",
     "output_type": "stream",
     "text": [
      "Fitting 3 folds for each of 240 candidates, totalling 720 fits\n"
     ]
    },
    {
     "name": "stderr",
     "output_type": "stream",
     "text": [
      "[Parallel(n_jobs=-1)]: Using backend LokyBackend with 4 concurrent workers.\n",
      "[Parallel(n_jobs=-1)]: Done  33 tasks      | elapsed: 39.6min\n",
      "[Parallel(n_jobs=-1)]: Done 154 tasks      | elapsed: 166.1min\n",
      "[Parallel(n_jobs=-1)]: Done 357 tasks      | elapsed: 385.4min\n",
      "[Parallel(n_jobs=-1)]: Done 640 tasks      | elapsed: 701.7min\n",
      "[Parallel(n_jobs=-1)]: Done 720 out of 720 | elapsed: 790.0min finished\n",
      "C:\\Users\\Lindstaedt\\Anaconda3\\lib\\site-packages\\sklearn\\multiclass.py:76: UserWarning: Label not 0 is present in all training examples.\n",
      "  str(classes[c]))\n"
     ]
    },
    {
     "data": {
      "text/plain": [
       "GridSearchCV(cv=3, error_score='raise-deprecating',\n",
       "       estimator=Pipeline(memory=None,\n",
       "     steps=[('vectorizer', CountVectorizer(analyzer='word', binary=False, decode_error='strict',\n",
       "        dtype=<class 'numpy.int64'>, encoding='utf-8', input='content',\n",
       "        lowercase=True, max_df=1.0, max_features=None, min_df=1,\n",
       "        ngram_range=(1, 1), preprocessor=None, stop_words=None,\n",
       "       ...', random_state=None, tol=0.0001,\n",
       "     verbose=0),\n",
       "          n_jobs=None),\n",
       "           n_jobs=None))]),\n",
       "       fit_params=None, iid='warn', n_jobs=-1,\n",
       "       param_grid={'tfidf__use_idf': (True, False), 'multiOutClf__estimator__estimator__class_weight': ['balanced', None], 'multiOutClf__estimator__estimator__C': [1, 2, 3, 4, 5, 6, 7, 8, 9, 10], 'multiOutClf__estimator__estimator__fit_intercept': [True, False], 'multiOutClf__estimator__estimator__max_iter': [10, 100, 500]},\n",
       "       pre_dispatch='2*n_jobs', refit=True, return_train_score='warn',\n",
       "       scoring='accuracy', verbose=2)"
      ]
     },
     "execution_count": 47,
     "metadata": {},
     "output_type": "execute_result"
    }
   ],
   "source": [
    "parameters = {\n",
    "    'tfidf__use_idf':(True, False),\n",
    "    'multiOutClf__estimator__estimator__class_weight': ['balanced',None],\n",
    "     'multiOutClf__estimator__estimator__C':  [1, 2, 3, 4, 5, 6, 7, 8, 9, 10],\n",
    "     'multiOutClf__estimator__estimator__fit_intercept': [True, False],\n",
    "     'multiOutClf__estimator__estimator__max_iter': [10, 100, 500],\n",
    "}\n",
    "\n",
    "cv = GridSearchCV(pipeline, param_grid=parameters, cv=3, scoring='accuracy', n_jobs=-1, verbose=6)\n",
    "cv.fit(X_train, y_train)"
   ]
  },
  {
   "cell_type": "code",
   "execution_count": 48,
   "metadata": {},
   "outputs": [
    {
     "data": {
      "text/plain": [
       "{'multiOutClf__estimator__estimator__C': 1,\n",
       " 'multiOutClf__estimator__estimator__class_weight': None,\n",
       " 'multiOutClf__estimator__estimator__fit_intercept': True,\n",
       " 'multiOutClf__estimator__estimator__max_iter': 100,\n",
       " 'tfidf__use_idf': False}"
      ]
     },
     "execution_count": 48,
     "metadata": {},
     "output_type": "execute_result"
    }
   ],
   "source": [
    "cv.best_params_"
   ]
  },
  {
   "cell_type": "code",
   "execution_count": 49,
   "metadata": {},
   "outputs": [
    {
     "data": {
      "text/plain": [
       "array([[1, 0, 0, ..., 0, 0, 0],\n",
       "       [1, 0, 0, ..., 0, 0, 0],\n",
       "       [1, 0, 0, ..., 0, 0, 0],\n",
       "       ...,\n",
       "       [0, 0, 0, ..., 0, 0, 0],\n",
       "       [1, 0, 0, ..., 0, 0, 0],\n",
       "       [1, 0, 0, ..., 0, 0, 0]], dtype=int64)"
      ]
     },
     "execution_count": 49,
     "metadata": {},
     "output_type": "execute_result"
    }
   ],
   "source": [
    "cv.predict(X_test)"
   ]
  },
  {
   "cell_type": "code",
   "execution_count": 60,
   "metadata": {},
   "outputs": [
    {
     "name": "stdout",
     "output_type": "stream",
     "text": [
      "                        precision    recall  f1-score   support\n",
      "\n",
      "               related       0.86      0.91      0.89      3996\n",
      "               request       0.75      0.60      0.67       859\n",
      "                 offer       0.00      0.00      0.00        25\n",
      "           aid_related       0.72      0.68      0.70      2137\n",
      "          medical_help       0.55      0.27      0.36       408\n",
      "      medical_products       0.65      0.30      0.41       269\n",
      "     search_and_rescue       0.54      0.15      0.23       134\n",
      "              security       0.14      0.01      0.02        99\n",
      "              military       0.63      0.34      0.44       164\n",
      "           child_alone       0.00      0.00      0.00         0\n",
      "                 water       0.80      0.59      0.68       340\n",
      "                  food       0.80      0.70      0.74       568\n",
      "               shelter       0.75      0.56      0.64       428\n",
      "              clothing       0.69      0.39      0.50        84\n",
      "                 money       0.60      0.23      0.33       127\n",
      "        missing_people       0.62      0.16      0.26        61\n",
      "              refugees       0.74      0.27      0.39       187\n",
      "                 death       0.69      0.48      0.56       228\n",
      "             other_aid       0.41      0.17      0.24       670\n",
      "infrastructure_related       0.35      0.10      0.16       324\n",
      "             transport       0.69      0.27      0.39       224\n",
      "             buildings       0.70      0.35      0.47       253\n",
      "           electricity       0.50      0.19      0.28        99\n",
      "                 tools       0.00      0.00      0.00        31\n",
      "             hospitals       0.50      0.06      0.10        52\n",
      "                 shops       0.00      0.00      0.00        19\n",
      "           aid_centers       0.50      0.03      0.05        69\n",
      "  other_infrastructure       0.28      0.05      0.09       214\n",
      "       weather_related       0.80      0.71      0.75      1444\n",
      "                floods       0.83      0.52      0.64       416\n",
      "                 storm       0.73      0.58      0.65       480\n",
      "                  fire       0.81      0.27      0.40        49\n",
      "            earthquake       0.88      0.76      0.81       499\n",
      "                  cold       0.69      0.29      0.41       100\n",
      "         other_weather       0.40      0.11      0.17       263\n",
      "         direct_report       0.67      0.52      0.58       976\n",
      "\n",
      "             micro avg       0.77      0.60      0.67     16296\n",
      "             macro avg       0.56      0.32      0.39     16296\n",
      "          weighted avg       0.72      0.60      0.64     16296\n",
      "           samples avg       0.60      0.50      0.50     16296\n",
      "\n"
     ]
    }
   ],
   "source": [
    "print(classification_report(y_test, y_pred, target_names=category_names))"
   ]
  },
  {
   "cell_type": "code",
   "execution_count": 52,
   "metadata": {},
   "outputs": [
    {
     "data": {
      "text/plain": [
       "0.2857142857142857"
      ]
     },
     "execution_count": 52,
     "metadata": {},
     "output_type": "execute_result"
    }
   ],
   "source": [
    "accuracy_score(y_test, y_pred)"
   ]
  },
  {
   "cell_type": "markdown",
   "metadata": {},
   "source": [
    "### 7. Test your model\n",
    "Show the accuracy, precision, and recall of the tuned model.  \n",
    "\n",
    "Since this project focuses on code quality, process, and  pipelines, there is no minimum performance metric needed to pass. However, make sure to fine tune your models for accuracy, precision and recall to make your project stand out - especially for your portfolio!"
   ]
  },
  {
   "cell_type": "code",
   "execution_count": null,
   "metadata": {},
   "outputs": [],
   "source": []
  },
  {
   "cell_type": "markdown",
   "metadata": {},
   "source": [
    "### 8. Try improving your model further. Here are a few ideas:\n",
    "* try other machine learning algorithms\n",
    "* add other features besides the TF-IDF"
   ]
  },
  {
   "cell_type": "code",
   "execution_count": null,
   "metadata": {},
   "outputs": [],
   "source": []
  },
  {
   "cell_type": "markdown",
   "metadata": {},
   "source": [
    "### 9. Export your model as a pickle file"
   ]
  },
  {
   "cell_type": "code",
   "execution_count": 53,
   "metadata": {},
   "outputs": [],
   "source": [
    "pickle.dump(cv, open(',/model/best_model.pkl', 'wb'))"
   ]
  },
  {
   "cell_type": "markdown",
   "metadata": {},
   "source": [
    "### 10. Use this notebook to complete `train.py`\n",
    "Use the template file attached in the Resources folder to write a script that runs the steps above to create a database and export a model based on a new dataset specified by the user."
   ]
  },
  {
   "cell_type": "code",
   "execution_count": null,
   "metadata": {},
   "outputs": [],
   "source": []
  }
 ],
 "metadata": {
  "kernelspec": {
   "display_name": "Python 3",
   "language": "python",
   "name": "python3"
  },
  "language_info": {
   "codemirror_mode": {
    "name": "ipython",
    "version": 3
   },
   "file_extension": ".py",
   "mimetype": "text/x-python",
   "name": "python",
   "nbconvert_exporter": "python",
   "pygments_lexer": "ipython3",
   "version": "3.6.7"
  }
 },
 "nbformat": 4,
 "nbformat_minor": 2
}
